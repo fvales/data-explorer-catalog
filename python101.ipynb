{
  "nbformat": 4,
  "nbformat_minor": 0,
  "metadata": {
    "colab": {
      "name": "python101.ipynb",
      "provenance": [],
      "collapsed_sections": []
    },
    "kernelspec": {
      "name": "python3",
      "display_name": "Python 3"
    }
  },
  "cells": [
    {
      "cell_type": "markdown",
      "metadata": {
        "id": "lxZaMWxmYahR",
        "colab_type": "text"
      },
      "source": [
        "#1.1: PRINT AND COMMENTS"
      ]
    },
    {
      "cell_type": "markdown",
      "metadata": {
        "id": "URcOrmvGV0pf",
        "colab_type": "text"
      },
      "source": [
        "Let’s start with one of the simplest but also the most important things you can do in Python: make the computer do something.\n",
        "\n",
        "Try running the code below to see what happens:\n"
      ]
    },
    {
      "cell_type": "code",
      "metadata": {
        "id": "1BrDjW8EcND-",
        "colab_type": "code",
        "colab": {
          "base_uri": "https://localhost:8080/",
          "height": 34
        },
        "outputId": "b5024e3e-2593-49a1-8301-fb23a8876234"
      },
      "source": [
        "print(\"Hello World\")"
      ],
      "execution_count": null,
      "outputs": [
        {
          "output_type": "stream",
          "text": [
            "Hello World\n"
          ],
          "name": "stdout"
        }
      ]
    },
    {
      "cell_type": "markdown",
      "metadata": {
        "id": "sbzpeIb3c3tD",
        "colab_type": "text"
      },
      "source": [
        "You should see “Hello World” displayed on the screen. This is called an output. What you just used is called a print statement.\n",
        "\n",
        "Try printing “Python is awesome!” by writing it in between the parentheses of your print statement. Make sure to include the quotation marks—double (“”) or single (‘’) quotes work the same."
      ]
    },
    {
      "cell_type": "markdown",
      "metadata": {
        "id": "wOQlETdydRai",
        "colab_type": "text"
      },
      "source": [
        "##1.1.1 Comments Single-line comments \n",
        "Try running this next code:"
      ]
    },
    {
      "cell_type": "code",
      "metadata": {
        "id": "yeZCbfcVcOqs",
        "colab_type": "code",
        "colab": {}
      },
      "source": [
        "# print(\"Hello World\")"
      ],
      "execution_count": null,
      "outputs": []
    },
    {
      "cell_type": "markdown",
      "metadata": {
        "id": "L5I2XMCzdA9R",
        "colab_type": "text"
      },
      "source": [
        "Notice that nothing happened. That is because by including the hash symbol (#), you are making a comment. Comments do not affect the program as they are only used to make notes to yourself or to a peer who is reading your code.\n",
        "\n"
      ]
    },
    {
      "cell_type": "markdown",
      "metadata": {
        "id": "HfV6kyAedDes",
        "colab_type": "text"
      },
      "source": [
        "##1.1.2 Multi-line comments\n",
        "When using the hash symbol to create a comment, only one line of comment is created. To create a multi-line comment, simply enclose your comments with a triple quote (‘‘‘). For example:\n"
      ]
    },
    {
      "cell_type": "code",
      "metadata": {
        "id": "413hy78hcUag",
        "colab_type": "code",
        "colab": {
          "base_uri": "https://localhost:8080/",
          "height": 34
        },
        "outputId": "33ded04c-eade-4606-deec-fb7a7571be9a"
      },
      "source": [
        "'''\n",
        "comment 1\n",
        "comment 2\n",
        "comment 3\n",
        "'''"
      ],
      "execution_count": null,
      "outputs": [
        {
          "output_type": "execute_result",
          "data": {
            "text/plain": [
              "'\\ncomment 1\\ncomment 2\\ncomment 3\\n'"
            ]
          },
          "metadata": {
            "tags": []
          },
          "execution_count": 4
        }
      ]
    },
    {
      "cell_type": "markdown",
      "metadata": {
        "id": "80X_YLCAd2CF",
        "colab_type": "text"
      },
      "source": [
        "##1.1.3 Formatting print\n",
        "“\\n” next line space\n",
        "Now, try running the following code snippet:"
      ]
    },
    {
      "cell_type": "code",
      "metadata": {
        "id": "vSXbdcVScaBz",
        "colab_type": "code",
        "colab": {}
      },
      "source": [
        "print(\"Hello\")\n",
        "print(\"World\")"
      ],
      "execution_count": null,
      "outputs": []
    },
    {
      "cell_type": "markdown",
      "metadata": {
        "id": "Eb_GyXNXd_gL",
        "colab_type": "text"
      },
      "source": [
        "Notice that “Hello” and “World” print on separate lines. That is because by default, our print statement will end the line. But what if we want to do the same thing with one print statement rather than two. To do so, we use the new line character, indicated by “\\n”.\n",
        "\n",
        "\n",
        "Run the following code snippet:"
      ]
    },
    {
      "cell_type": "code",
      "metadata": {
        "id": "XTKhg9Gbci3j",
        "colab_type": "code",
        "colab": {
          "base_uri": "https://localhost:8080/",
          "height": 51
        },
        "outputId": "4ce5ccdf-bd6f-4437-f7e8-c79e9b75f77c"
      },
      "source": [
        "print(\"Hello\\nWorld\")"
      ],
      "execution_count": null,
      "outputs": [
        {
          "output_type": "stream",
          "text": [
            "Hello\n",
            "World\n"
          ],
          "name": "stdout"
        }
      ]
    },
    {
      "cell_type": "markdown",
      "metadata": {
        "id": "YVTNOomMeKTI",
        "colab_type": "text"
      },
      "source": [
        "Notice that its output is the same as the previous one.\n",
        "\n",
        "“\\t” tab space\n",
        "The tab space, like the next line space (“\\n”) is another special character and is indicated with a “\\t”.\n",
        "\n",
        "Run the following program:"
      ]
    },
    {
      "cell_type": "code",
      "metadata": {
        "id": "T5-iYyv_cpps",
        "colab_type": "code",
        "colab": {
          "base_uri": "https://localhost:8080/",
          "height": 34
        },
        "outputId": "4ab5676a-d43a-49be-f0e1-05ca9f0c8093"
      },
      "source": [
        "print(\"\\tHello World\")"
      ],
      "execution_count": null,
      "outputs": [
        {
          "output_type": "stream",
          "text": [
            "\tHello World\n"
          ],
          "name": "stdout"
        }
      ]
    },
    {
      "cell_type": "markdown",
      "metadata": {
        "id": "3tpRKJhQenUw",
        "colab_type": "text"
      },
      "source": [
        "Try printing “Python\\nIs\\nAwesome!” by writing it in between the parentheses of your print statement. Again, make sure to include the quotation marks (double or single quotes work the same)."
      ]
    },
    {
      "cell_type": "code",
      "metadata": {
        "id": "FKTkpHlqcu7_",
        "colab_type": "code",
        "colab": {}
      },
      "source": [
        "# TODO: write code here"
      ],
      "execution_count": null,
      "outputs": []
    },
    {
      "cell_type": "markdown",
      "metadata": {
        "id": "zOe4jYtZV_7l",
        "colab_type": "text"
      },
      "source": [
        "# 1.2: DATA TYPES AND VARIABLE\n",
        "\n",
        "What is a data type?\n",
        "In computer science, a data type is a label used by the computer to determine a piece of data’s intent and purpose.\n",
        "\n",
        "The string data type\n",
        "In the previous lesson, you printed something that was enclosed in quotation marks. A collection of characters, which includes letters, digits, and/or symbols, contained inside single or double quotation marks is known as a string, written as str in Python. A string (str) is a data type that represents a collection of characters.\n",
        "\n",
        "Examples of **strings**:\n",
        "\n",
        "All letters: “abcd”, “string”\n",
        "All digits: “123”, “156”\n",
        "All symbols: “@#^!”, “!!!!!”, “# # #”, “        ”\n",
        "Combination of all characters: “Abc123~!”\n",
        "Note: An empty space, also known as a white space, is a type of symbol.\n",
        "\n",
        "Note: *A string can even contain nothing: “”*. This is called an empty string.\n",
        "\n",
        "Other data types\n",
        "Strings aren’t the only data types in Python. There is also **int**, which represents an integer number such as 1, 50, 123.\n",
        "\n",
        "Note: “123” is not the same as 123. With quotations, “123” is a string containing the digits “1”, “2”, and “3” whereas 123 represents the numerical value one hundred and twenty three.\n",
        "\n",
        "In addition to int, there is **float**, which represents real numbers such as 1.3, 3.14, 2.7182. The number, 10.0, is also a float.\n",
        "\n",
        "Lastly, there is the **bool** (short for boolean) data type, which represents either True or False values. We will explore these data types in more depth and many others as we continue throughout the tutorial.\n",
        "\n"
      ]
    },
    {
      "cell_type": "code",
      "metadata": {
        "id": "4ISkjTryYNLx",
        "colab_type": "code",
        "colab": {}
      },
      "source": [
        "# printing a string, \"Hello\"\n",
        "print(\"Hello\")"
      ],
      "execution_count": null,
      "outputs": []
    },
    {
      "cell_type": "code",
      "metadata": {
      ...
